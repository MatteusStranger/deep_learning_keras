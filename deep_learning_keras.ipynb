{
  "nbformat": 4,
  "nbformat_minor": 0,
  "metadata": {
    "colab": {
      "name": "deep_learning_keras.ipynb",
      "provenance": [],
      "authorship_tag": "ABX9TyNErB7d+/yjKosBv20wucfr",
      "include_colab_link": true
    },
    "kernelspec": {
      "name": "python3",
      "display_name": "Python 3"
    },
    "accelerator": "GPU"
  },
  "cells": [
    {
      "cell_type": "markdown",
      "metadata": {
        "id": "view-in-github",
        "colab_type": "text"
      },
      "source": [
        "<a href=\"https://colab.research.google.com/github/MatteusStranger/deep_learning_keras/blob/master/deep_learning_keras.ipynb\" target=\"_parent\"><img src=\"https://colab.research.google.com/assets/colab-badge.svg\" alt=\"Open In Colab\"/></a>"
      ]
    },
    {
      "cell_type": "code",
      "metadata": {
        "id": "EQBUSUn3aK4d",
        "colab_type": "code",
        "colab": {}
      },
      "source": [
        "import tensorflow\n",
        "from tensorflow import keras\n",
        "import matplotlib.pyplot as plt\n",
        "import numpy as np\n",
        "from tensorflow.keras.models import load_model"
      ],
      "execution_count": 12,
      "outputs": []
    },
    {
      "cell_type": "code",
      "metadata": {
        "id": "rwyc6lwdcirC",
        "colab_type": "code",
        "colab": {}
      },
      "source": [
        "#carregar dataset\n",
        "dataset = keras.datasets.fashion_mnist\n",
        "((imagens_treino, identificacoes_treino),(imagens_teste, identificacoes_teste)) = dataset.load_data()"
      ],
      "execution_count": 2,
      "outputs": []
    },
    {
      "cell_type": "code",
      "metadata": {
        "id": "LqqpvLaMb6Ry",
        "colab_type": "code",
        "colab": {}
      },
      "source": [
        "#explorar os dados\n",
        "len(imagens_treino)\n",
        "imagens_teste.shape\n",
        "identificacoes_treino.min()\n",
        "identificacoes_treino.max()"
      ],
      "execution_count": null,
      "outputs": []
    },
    {
      "cell_type": "code",
      "metadata": {
        "id": "C8e0PsrQeQJo",
        "colab_type": "code",
        "colab": {}
      },
      "source": [
        "#exibir os dados\n",
        "total_de_classificacoes = 10\n",
        "nomes_de_classificacoes = ['Camiseta','Calça','Pullover','Vestido','Casaco','Sandália','Camisa','Tênis','Bolsa','Bota']\n",
        "\n",
        "'''plt.imshow(imagens_treino[0])\n",
        "plt.title(identificacoes_treino[0])\n",
        "\n",
        "\n",
        "for imagem in range(10):\n",
        "  plt.subplot(2,5,imagem+1)\n",
        "  plt.imshow(imagens_treino[imagem])\n",
        "  plt.title(nomes_de_classificacoes[identificacoes_treino[imagem]])\n",
        "'''\n",
        "plt.imshow(imagens_treino[0])\n",
        "plt.colorbar()"
      ],
      "execution_count": null,
      "outputs": []
    },
    {
      "cell_type": "code",
      "metadata": {
        "id": "ezXnst_Ac-7U",
        "colab_type": "code",
        "colab": {}
      },
      "source": [
        "#normalização\n",
        "imagens_treino = imagens_treino/255.0\n",
        "\n",
        "#geração de modelo\n",
        "modelo = keras.Sequential([\n",
        "                           keras.layers.Flatten(input_shape=(28,28)),\n",
        "                           keras.layers.Dense(256,activation=tensorflow.nn.relu),\n",
        "                           keras.layers.Dropout(0.4),\n",
        "                           keras.layers.Dense(10,activation=tensorflow.nn.softmax)\n",
        "])\n",
        "\n",
        "modelo.compile(optimizer='adam',\n",
        "               loss=tensorflow.keras.losses.sparse_categorical_crossentropy,\n",
        "               metrics=['accuracy',\n",
        "                        'sparse_categorical_crossentropy'])"
      ],
      "execution_count": 5,
      "outputs": []
    },
    {
      "cell_type": "code",
      "metadata": {
        "id": "z3rbPmTwqzSg",
        "colab_type": "code",
        "colab": {}
      },
      "source": [
        "historico = modelo.fit(imagens_treino,\n",
        "           identificacoes_treino,\n",
        "           batch_size=32,\n",
        "           epochs=10,\n",
        "           validation_split=0.2,\n",
        "           callbacks=[tensorflow.keras.callbacks.EarlyStopping(monitor='loss',patience=5)])"
      ],
      "execution_count": null,
      "outputs": []
    },
    {
      "cell_type": "code",
      "metadata": {
        "id": "GUne7iG484R0",
        "colab_type": "code",
        "colab": {}
      },
      "source": [
        "testes = modelo.predict(imagens_teste)\n"
      ],
      "execution_count": 7,
      "outputs": []
    },
    {
      "cell_type": "code",
      "metadata": {
        "id": "VFkPGK_GDL93",
        "colab_type": "code",
        "colab": {}
      },
      "source": [
        "perda_teste, acuracia_teste, a = modelo.evaluate(imagens_teste,identificacoes_teste,batch_size=32,verbose=1,use_multiprocessing=True)"
      ],
      "execution_count": null,
      "outputs": []
    },
    {
      "cell_type": "code",
      "metadata": {
        "id": "UjMj4oDpEsf8",
        "colab_type": "code",
        "colab": {}
      },
      "source": [
        "print('Perda: ',perda_teste)\n",
        "print('Acurácia: ',acuracia_teste)"
      ],
      "execution_count": null,
      "outputs": []
    },
    {
      "cell_type": "code",
      "metadata": {
        "id": "WqpkBCgwFKYZ",
        "colab_type": "code",
        "colab": {}
      },
      "source": [
        "plt.plot(historico.history['accuracy'])\n",
        "plt.plot(historico.history['val_accuracy'])\n",
        "plt.title('Acurácia por epochs')\n",
        "plt.xlabel('epochs')\n",
        "plt.ylabel('Accuracy')\n",
        "plt.legend(['treino','avaliação'])"
      ],
      "execution_count": null,
      "outputs": []
    },
    {
      "cell_type": "code",
      "metadata": {
        "id": "gLk9kgpNGRbj",
        "colab_type": "code",
        "colab": {}
      },
      "source": [
        "plt.plot(historico.history['loss'])\n",
        "plt.plot(historico.history['val_loss'])\n",
        "plt.title('Perda por epochs')\n",
        "plt.xlabel('epochs')\n",
        "plt.ylabel('Loss')\n",
        "plt.legend(['loss','val_loss'])"
      ],
      "execution_count": null,
      "outputs": []
    },
    {
      "cell_type": "code",
      "metadata": {
        "id": "0me1NnwTG1PP",
        "colab_type": "code",
        "colab": {}
      },
      "source": [
        "modelo.save('modelo.h5')\n",
        "modelo_salvo = load_model('modelo.h5')"
      ],
      "execution_count": 14,
      "outputs": []
    },
    {
      "cell_type": "code",
      "metadata": {
        "id": "LgJaWn8hLGl9",
        "colab_type": "code",
        "colab": {}
      },
      "source": [
        "perda_teste, acuracia_teste, a = modelo_salvo.evaluate(imagens_teste,identificacoes_teste,batch_size=32,verbose=1,use_multiprocessing=True)"
      ],
      "execution_count": null,
      "outputs": []
    },
    {
      "cell_type": "code",
      "metadata": {
        "id": "M5W5_Kd2LKp7",
        "colab_type": "code",
        "colab": {}
      },
      "source": [
        "print('Perda: ',perda_teste)\n",
        "print('Acurácia: ',acuracia_teste)"
      ],
      "execution_count": null,
      "outputs": []
    },
    {
      "cell_type": "code",
      "metadata": {
        "id": "86hQC15OLNuC",
        "colab_type": "code",
        "colab": {}
      },
      "source": [
        ""
      ],
      "execution_count": null,
      "outputs": []
    }
  ]
}